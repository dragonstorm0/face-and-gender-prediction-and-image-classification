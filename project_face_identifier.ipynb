{
 "cells": [
  {
   "cell_type": "code",
   "execution_count": 1,
   "metadata": {},
   "outputs": [],
   "source": [
    "#along with the code in both the ipynd and .py format i am also submitting the two images that i tested this code on.\n",
    "from tkinter import *\n",
    "import tkinter as tk\n",
    "from tkinter import messagebox\n",
    "from tkinter import ttk\n",
    "import pandas as pd\n",
    "from PIL import Image,ImageTk\n",
    "import cv2\n",
    "from tkinter import filedialog\n",
    "\n",
    "\n",
    "face_clf=cv2.CascadeClassifier(\"haar/haarcascade_frontalface_default.xml\")\n",
    "my_label=None\n",
    "def browse_image():\n",
    "    global my_label\n",
    "    if(my_label!=None):\n",
    "        #to remove prior used image if any.\n",
    "        my_label.destroy()\n",
    "    path_image=filedialog.askopenfilename(initialdir=\"/\",title=\"Open File\",filetypes=((\"Image\", \"*.jpg\"),(\"Image\",\"*.png\"), (\"All Files\", \"*.*\")))\n",
    "    img=cv2.imread(path_image,cv2.IMREAD_COLOR)\n",
    "    gray=cv2.cvtColor(img,cv2.COLOR_BGR2GRAY)\n",
    "    faces=face_clf.detectMultiScale(gray,minSize=(100,100))\n",
    "    for x,y,w,h in faces:\n",
    "        cv2.rectangle(img,(x,y),(x+w,y+h),(0,0,255),2)\n",
    "    img=cv2.cvtColor(img,cv2.COLOR_BGR2RGB)\n",
    "    img1=Image.fromarray(img).resize((500,500))\n",
    "#to save the image file\n",
    "#    img1.save(\"new_detected.jpg\")\n",
    "    my_img=ImageTk.PhotoImage(img1)\n",
    "#face detection is working perfectly.\n",
    "#     cv2.imshow('image',img1)\n",
    "#     cv2.waitKey(0)\n",
    "#     cv2.destroyAllWindows()\n",
    "    my_label=Label(image=my_img)\n",
    "    my_label.image=my_img\n",
    "    my_label.configure(width=500,height=500)\n",
    "    my_label.place(relx=.21,rely=.3)\n",
    "def close():\n",
    "    window.destroy()\n",
    "\n",
    "window=Tk()\n",
    "window.geometry(\"1000x800\")\n",
    "window.configure(bg='powder blue')\n",
    "window.title('face recognition system')\n",
    "window.resizable(height=False,width=False)\n",
    "\n",
    "label_main=Label(window,text='Face Recognition System',font=('serif',40,'bold italic'),fg='black',bg='powder blue')\n",
    "label_main.pack()\n",
    "btn_browse=Button(window,command=lambda:browse_image(),text='Browse Image',font=('',15,'bold'),bd=5)\n",
    "btn_browse.place(relx=.4,rely=.2)\n",
    "btn_quit=Button(window,command=lambda:close(),text='Quit',font=('quit',15,'bold'),bd=5)\n",
    "btn_quit.place(relx=.1,rely=.85)\n",
    "\n",
    "window.mainloop()\n"
   ]
  },
  {
   "cell_type": "code",
   "execution_count": null,
   "metadata": {},
   "outputs": [],
   "source": []
  }
 ],
 "metadata": {
  "kernelspec": {
   "display_name": "Python 3",
   "language": "python",
   "name": "python3"
  },
  "language_info": {
   "codemirror_mode": {
    "name": "ipython",
    "version": 3
   },
   "file_extension": ".py",
   "mimetype": "text/x-python",
   "name": "python",
   "nbconvert_exporter": "python",
   "pygments_lexer": "ipython3",
   "version": "3.7.4"
  }
 },
 "nbformat": 4,
 "nbformat_minor": 4
}
