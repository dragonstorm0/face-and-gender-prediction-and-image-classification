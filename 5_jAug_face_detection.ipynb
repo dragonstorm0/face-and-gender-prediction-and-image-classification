{
 "cells": [
  {
   "cell_type": "code",
   "execution_count": 1,
   "metadata": {},
   "outputs": [],
   "source": [
    "import cv2"
   ]
  },
  {
   "cell_type": "code",
   "execution_count": 16,
   "metadata": {},
   "outputs": [],
   "source": [
    "face_clf=cv2.CascadeClassifier(\"c:/dataset/haar/haarcascade_frontalface_default.xml\")\n",
    "img=cv2.imread(\"e:/images/players/virat.jpg\",cv2.IMREAD_COLOR)\n",
    "gray=cv2.cvtColor(img,cv2.COLOR_BGR2GRAY)\n",
    "faces=face_clf.detectMultiScale(gray,minSize=(60,60))\n",
    "for x,y,w,h in faces:\n",
    "    cv2.rectangle(img,(x,y),(x+w,y+h),(0,0,255),2)\n",
    "cv2.imshow('image',img)\n",
    "cv2.waitKey(0)\n",
    "cv2.destroyAllWindows()"
   ]
  },
  {
   "cell_type": "code",
   "execution_count": 11,
   "metadata": {},
   "outputs": [],
   "source": [
    "vdo=cv2.VideoCapture(\"e:/bahubali.mp4\")\n",
    "while(True):\n",
    "    flag,img=vdo.read()\n",
    "    if(flag==False):\n",
    "        break\n",
    "    else:\n",
    "        gray=cv2.cvtColor(img,cv2.COLOR_BGR2GRAY)\n",
    "        faces=face_clf.detectMultiScale(gray,minSize=(80,80),minNeighbors=7)\n",
    "        cv2.putText(img,\"press 'q' to quit video\",(20,30),5,2,(255,0,0),2)\n",
    "        for x,y,w,h in faces:\n",
    "            cv2.rectangle(img,(x,y),(x+w,y+h),(0,0,255),2)\n",
    "        cv2.imshow('image',img)\n",
    "        k=cv2.waitKey(50)\n",
    "        if(k==ord('q')):\n",
    "            break\n",
    "vdo.release()\n",
    "cv2.destroyAllWindows()"
   ]
  },
  {
   "cell_type": "code",
   "execution_count": 15,
   "metadata": {},
   "outputs": [],
   "source": [
    "vdo=cv2.VideoCapture(0)\n",
    "while(True):\n",
    "    flag,img=vdo.read()\n",
    "    if(flag==False):\n",
    "        break\n",
    "    else:\n",
    "        gray=cv2.cvtColor(img,cv2.COLOR_BGR2GRAY)\n",
    "        faces=face_clf.detectMultiScale(gray,minSize=(80,80),minNeighbors=7)\n",
    "        cv2.putText(img,\"press 'q' to quit video\",(20,30),5,2,(255,0,0),2)\n",
    "        for x,y,w,h in faces:\n",
    "            cv2.rectangle(img,(x,y),(x+w,y+h),(0,0,255),2)\n",
    "        cv2.imshow('image',img)\n",
    "        k=cv2.waitKey(50)\n",
    "        if(k==ord('q')):\n",
    "            break\n",
    "vdo.release()\n",
    "cv2.destroyAllWindows()"
   ]
  },
  {
   "cell_type": "code",
   "execution_count": null,
   "metadata": {},
   "outputs": [],
   "source": []
  }
 ],
 "metadata": {
  "kernelspec": {
   "display_name": "Python 3",
   "language": "python",
   "name": "python3"
  },
  "language_info": {
   "codemirror_mode": {
    "name": "ipython",
    "version": 3
   },
   "file_extension": ".py",
   "mimetype": "text/x-python",
   "name": "python",
   "nbconvert_exporter": "python",
   "pygments_lexer": "ipython3",
   "version": "3.7.4"
  }
 },
 "nbformat": 4,
 "nbformat_minor": 4
}
