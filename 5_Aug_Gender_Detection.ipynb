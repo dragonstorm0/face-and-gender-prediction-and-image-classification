{
 "cells": [
  {
   "cell_type": "code",
   "execution_count": 25,
   "metadata": {},
   "outputs": [],
   "source": [
    "import os\n",
    "import cv2\n",
    "import numpy as np\n",
    "#os.remove(\"gender_train/female/female_152.jpg\")\n",
    "#os.remove(\"gender_train/male/male_152.jpg\")"
   ]
  },
  {
   "cell_type": "code",
   "execution_count": 26,
   "metadata": {},
   "outputs": [],
   "source": [
    "X=[]\n",
    "y=[]\n",
    "path_male=\"gender_train/male/\"\n",
    "img_names=os.listdir(path_male)\n",
    "for name in img_names:\n",
    "    gray=cv2.imread(path_male+name,0)\n",
    "    X.append(gray.flatten())\n",
    "    y.append('male')\n",
    "    \n",
    "path_female=\"gender_train/female/\"\n",
    "img_names=os.listdir(path_female)\n",
    "for name in img_names:\n",
    "    gray=cv2.imread(path_female+name,0)\n",
    "    X.append(gray.flatten())\n",
    "    y.append('female')\n",
    "    \n",
    "X=np.array(X)\n",
    "y=np.array(y)"
   ]
  },
  {
   "cell_type": "code",
   "execution_count": 27,
   "metadata": {},
   "outputs": [
    {
     "data": {
      "text/plain": [
       "(300, 8100)"
      ]
     },
     "execution_count": 27,
     "metadata": {},
     "output_type": "execute_result"
    }
   ],
   "source": [
    "X.shape"
   ]
  },
  {
   "cell_type": "code",
   "execution_count": 28,
   "metadata": {},
   "outputs": [],
   "source": [
    "from sklearn.decomposition import PCA"
   ]
  },
  {
   "cell_type": "code",
   "execution_count": 31,
   "metadata": {},
   "outputs": [
    {
     "data": {
      "text/plain": [
       "(300, 230)"
      ]
     },
     "execution_count": 31,
     "metadata": {},
     "output_type": "execute_result"
    }
   ],
   "source": [
    "pca=PCA(.99)\n",
    "new_X=pca.fit_transform(X)\n",
    "new_X.shape"
   ]
  },
  {
   "cell_type": "code",
   "execution_count": 33,
   "metadata": {},
   "outputs": [],
   "source": [
    "from sklearn.linear_model import LogisticRegression"
   ]
  },
  {
   "cell_type": "code",
   "execution_count": 34,
   "metadata": {},
   "outputs": [
    {
     "data": {
      "text/plain": [
       "LogisticRegression()"
      ]
     },
     "execution_count": 34,
     "metadata": {},
     "output_type": "execute_result"
    }
   ],
   "source": [
    "log=LogisticRegression()\n",
    "log.fit(new_X,y)"
   ]
  },
  {
   "cell_type": "code",
   "execution_count": 49,
   "metadata": {},
   "outputs": [
    {
     "name": "stdout",
     "output_type": "stream",
     "text": [
      "Face Not Detected\n"
     ]
    }
   ],
   "source": [
    "face_clf=cv2.CascadeClassifier(\"c:/dataset/haar/haarcascade_frontalface_default.xml\")\n",
    "img=cv2.imread(\"e:/images/players/logo.jpg\",cv2.IMREAD_COLOR)\n",
    "gray=cv2.cvtColor(img,cv2.COLOR_BGR2GRAY)\n",
    "faces=face_clf.detectMultiScale(gray)\n",
    "if(len(faces)==0):\n",
    "    print(\"Face Not Detected\")\n",
    "else:\n",
    "    for x,y,w,h in faces:\n",
    "        face=gray[y:y+h,x:x+w]\n",
    "        face=cv2.resize(face,(90,90))\n",
    "        face=face.reshape(1,8100)\n",
    "        face=pca.transform(face)\n",
    "        print(log.predict(face))"
   ]
  },
  {
   "cell_type": "code",
   "execution_count": null,
   "metadata": {},
   "outputs": [],
   "source": []
  }
 ],
 "metadata": {
  "kernelspec": {
   "display_name": "Python 3",
   "language": "python",
   "name": "python3"
  },
  "language_info": {
   "codemirror_mode": {
    "name": "ipython",
    "version": 3
   },
   "file_extension": ".py",
   "mimetype": "text/x-python",
   "name": "python",
   "nbconvert_exporter": "python",
   "pygments_lexer": "ipython3",
   "version": "3.7.4"
  }
 },
 "nbformat": 4,
 "nbformat_minor": 4
}
